{
  "nbformat": 4,
  "nbformat_minor": 0,
  "metadata": {
    "colab": {
      "provenance": [],
      "gpuType": "T4"
    },
    "kernelspec": {
      "name": "python3",
      "display_name": "Python 3"
    },
    "language_info": {
      "name": "python"
    },
    "gpuClass": "standard"
  },
  "cells": [
    {
      "cell_type": "code",
      "execution_count": null,
      "metadata": {
        "colab": {
          "base_uri": "https://localhost:8080/"
        },
        "id": "X5V1wyc1wQ2j",
        "outputId": "e2a8b1b4-8b9b-4ddc-a687-53304daf1e07"
      },
      "outputs": [
        {
          "output_type": "stream",
          "name": "stdout",
          "text": [
            "Mounted at /gdrive\n"
          ]
        }
      ],
      "source": [
        "import zipfile\n",
        "import csv\n",
        "import os\n",
        "import numpy as np\n",
        "import matplotlib.pyplot as plt\n",
        "\n",
        "from google.colab import drive\n",
        "drive.mount('/gdrive')"
      ]
    },
    {
      "cell_type": "code",
      "source": [
        "root_dir = \"/gdrive/MyDrive/BraTS21/\"\n",
        "if os.path.exists(root_dir):\n",
        "  print('The path exists!!')\n",
        "\n",
        "  print(os.listdir(root_dir))\n",
        "\n"
      ],
      "metadata": {
        "colab": {
          "base_uri": "https://localhost:8080/"
        },
        "id": "l4d18M7wwhh2",
        "outputId": "23c3359f-fd94-4704-f4c3-6a2c69e66b11"
      },
      "execution_count": null,
      "outputs": [
        {
          "output_type": "stream",
          "name": "stdout",
          "text": [
            "The path exists!!\n",
            "['RSNA_ASNR_MICCAI_BraTS2021_TrainingData_16July2021.zip', 'BraTS21-17_Mapping.csv', 'BraTS2021_00495.zip', 'BraTS2021_00621.zip', 'brats21_folds.json', 'model0.pt']\n"
          ]
        }
      ]
    },
    {
      "cell_type": "code",
      "source": [
        "data_file = os.path.join(root_dir, \"RSNA_ASNR_MICCAI_BraTS2021_TrainingData_16July2021.zip\")\n",
        "#extracting data from the zip file.\n",
        "with zipfile.ZipFile(data_file, 'r') as zip:\n",
        "  zip.extractall('/content')\n"
      ],
      "metadata": {
        "id": "JGqX1oexw7YR"
      },
      "execution_count": null,
      "outputs": []
    },
    {
      "cell_type": "code",
      "source": [
        "\n",
        "%cp /gdrive/MyDrive/BraTS21/BraTS21-17_Mapping.csv  /content"
      ],
      "metadata": {
        "id": "e1lujwn9yFfo"
      },
      "execution_count": null,
      "outputs": []
    },
    {
      "cell_type": "code",
      "source": [
        "%cp /gdrive/MyDrive/BraTS21/model0.pt /content"
      ],
      "metadata": {
        "id": "1Srk3oP35Q-O"
      },
      "execution_count": null,
      "outputs": []
    },
    {
      "cell_type": "code",
      "source": [
        "%cp /gdrive/MyDrive/BraTS21/brats21_folds.json /content"
      ],
      "metadata": {
        "id": "4e_j-5oXGa8K"
      },
      "execution_count": null,
      "outputs": []
    },
    {
      "cell_type": "code",
      "source": [
        "!git clone https://github.com/faizan1234567/Brats-20-Tumors-segmentation.git"
      ],
      "metadata": {
        "id": "TK2tnFVHzLiF"
      },
      "execution_count": null,
      "outputs": []
    },
    {
      "cell_type": "code",
      "source": [
        "%cd Brats-20-Tumors-segmentation/"
      ],
      "metadata": {
        "colab": {
          "base_uri": "https://localhost:8080/"
        },
        "id": "qOwiTRL-3HE-",
        "outputId": "8a01c666-1426-48b9-c288-4906e1a6e0e0"
      },
      "execution_count": null,
      "outputs": [
        {
          "output_type": "stream",
          "name": "stdout",
          "text": [
            "/content/Brats-20-Tumors-segmentation\n"
          ]
        }
      ]
    },
    {
      "cell_type": "code",
      "source": [
        "!pip install -r requirements.txt"
      ],
      "metadata": {
        "id": "tC5xKJu43K4L"
      },
      "execution_count": null,
      "outputs": []
    },
    {
      "cell_type": "code",
      "source": [
        "%cd Brats-20-Tumors-segmentation/"
      ],
      "metadata": {
        "colab": {
          "base_uri": "https://localhost:8080/"
        },
        "id": "w5C9NiCq4Sdr",
        "outputId": "5d3d3ec5-0aeb-4427-cca9-baba451659e7"
      },
      "execution_count": null,
      "outputs": [
        {
          "output_type": "stream",
          "name": "stdout",
          "text": [
            "/content/Brats-20-Tumors-segmentation\n"
          ]
        }
      ]
    },
    {
      "cell_type": "code",
      "source": [
        "!python test.py -h"
      ],
      "metadata": {
        "id": "bKNq_c3V4YrF"
      },
      "execution_count": null,
      "outputs": []
    },
    {
      "cell_type": "code",
      "source": [
        "!python test.py --weights /content/model0.pt --fold 0 --workers 2 --batch 1 --json_file /content/brats21_folds.json --platform_changed"
      ],
      "metadata": {
        "id": "UBW69Y-E4dTp"
      },
      "execution_count": null,
      "outputs": []
    },
    {
      "cell_type": "code",
      "source": [
        "!python train.py -h"
      ],
      "metadata": {
        "id": "t8f475lc52JQ"
      },
      "execution_count": null,
      "outputs": []
    },
    {
      "cell_type": "code",
      "source": [
        "!python train.py --fold 0  --batch 1 --val_every 1 --max_epochs 2 --pretrained_model /content/model0.pt --pretrained --workers 2 --platform_changed"
      ],
      "metadata": {
        "id": "Xi_MXEUjayxf"
      },
      "execution_count": null,
      "outputs": []
    }
  ]
}